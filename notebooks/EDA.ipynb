{
 "cells": [
  {
   "attachments": {},
   "cell_type": "markdown",
   "metadata": {},
   "source": [
    "<h1>Introduction</h1>\n",
    "Zuber something something"
   ]
  },
  {
   "attachments": {},
   "cell_type": "markdown",
   "metadata": {},
   "source": [
    "Importing necessary libraries"
   ]
  },
  {
   "cell_type": "code",
   "execution_count": 6,
   "metadata": {},
   "outputs": [],
   "source": [
    "import pandas as pd\n",
    "import numpy as np\n",
    "from matplotlib import pyplot as plt\n",
    "from scipy import stats as st\n",
    "from math import factorial as ft \n",
    "import plotly.express as px"
   ]
  },
  {
   "attachments": {},
   "cell_type": "markdown",
   "metadata": {},
   "source": [
    "Import files into dataframes"
   ]
  },
  {
   "cell_type": "code",
   "execution_count": 7,
   "metadata": {},
   "outputs": [],
   "source": [
    "\n",
    "zuber_company_data = pd.read_csv('/Users/leahdeyoung/Desktop/GitHub/zuber-practicum/moved_project_sql_result_01.csv', encoding = \"utf-8\")\n",
    "zuber_dropoff_data = pd.read_csv('/Users/leahdeyoung/Desktop/GitHub/zuber-practicum/moved_project_sql_result_04.csv', encoding = \"utf-8\")\n",
    "zuber_rides_data = pd.read_csv('/Users/leahdeyoung/Desktop/GitHub/zuber-practicum/moved_project_sql_result_07.csv', encoding = \"utf-8\")\n"
   ]
  },
  {
   "attachments": {},
   "cell_type": "markdown",
   "metadata": {},
   "source": [
    "Display first dataframe and info"
   ]
  },
  {
   "cell_type": "code",
   "execution_count": 8,
   "metadata": {},
   "outputs": [
    {
     "data": {
      "text/html": [
       "<div>\n",
       "<style scoped>\n",
       "    .dataframe tbody tr th:only-of-type {\n",
       "        vertical-align: middle;\n",
       "    }\n",
       "\n",
       "    .dataframe tbody tr th {\n",
       "        vertical-align: top;\n",
       "    }\n",
       "\n",
       "    .dataframe thead th {\n",
       "        text-align: right;\n",
       "    }\n",
       "</style>\n",
       "<table border=\"1\" class=\"dataframe\">\n",
       "  <thead>\n",
       "    <tr style=\"text-align: right;\">\n",
       "      <th></th>\n",
       "      <th>company_name</th>\n",
       "      <th>trips_amount</th>\n",
       "    </tr>\n",
       "  </thead>\n",
       "  <tbody>\n",
       "    <tr>\n",
       "      <th>0</th>\n",
       "      <td>Flash Cab</td>\n",
       "      <td>19558</td>\n",
       "    </tr>\n",
       "    <tr>\n",
       "      <th>1</th>\n",
       "      <td>Taxi Affiliation Services</td>\n",
       "      <td>11422</td>\n",
       "    </tr>\n",
       "    <tr>\n",
       "      <th>2</th>\n",
       "      <td>Medallion Leasin</td>\n",
       "      <td>10367</td>\n",
       "    </tr>\n",
       "    <tr>\n",
       "      <th>3</th>\n",
       "      <td>Yellow Cab</td>\n",
       "      <td>9888</td>\n",
       "    </tr>\n",
       "    <tr>\n",
       "      <th>4</th>\n",
       "      <td>Taxi Affiliation Service Yellow</td>\n",
       "      <td>9299</td>\n",
       "    </tr>\n",
       "  </tbody>\n",
       "</table>\n",
       "</div>"
      ],
      "text/plain": [
       "                      company_name  trips_amount\n",
       "0                        Flash Cab         19558\n",
       "1        Taxi Affiliation Services         11422\n",
       "2                 Medallion Leasin         10367\n",
       "3                       Yellow Cab          9888\n",
       "4  Taxi Affiliation Service Yellow          9299"
      ]
     },
     "metadata": {},
     "output_type": "display_data"
    },
    {
     "name": "stdout",
     "output_type": "stream",
     "text": [
      "<class 'pandas.core.frame.DataFrame'>\n",
      "RangeIndex: 64 entries, 0 to 63\n",
      "Data columns (total 2 columns):\n",
      " #   Column        Non-Null Count  Dtype \n",
      "---  ------        --------------  ----- \n",
      " 0   company_name  64 non-null     object\n",
      " 1   trips_amount  64 non-null     int64 \n",
      "dtypes: int64(1), object(1)\n",
      "memory usage: 1.1+ KB\n"
     ]
    }
   ],
   "source": [
    "display(zuber_company_data.head())\n",
    "zuber_company_data.info()"
   ]
  },
  {
   "attachments": {},
   "cell_type": "markdown",
   "metadata": {},
   "source": [
    "Display second dataframe and info"
   ]
  },
  {
   "cell_type": "code",
   "execution_count": 9,
   "metadata": {},
   "outputs": [
    {
     "data": {
      "text/html": [
       "<div>\n",
       "<style scoped>\n",
       "    .dataframe tbody tr th:only-of-type {\n",
       "        vertical-align: middle;\n",
       "    }\n",
       "\n",
       "    .dataframe tbody tr th {\n",
       "        vertical-align: top;\n",
       "    }\n",
       "\n",
       "    .dataframe thead th {\n",
       "        text-align: right;\n",
       "    }\n",
       "</style>\n",
       "<table border=\"1\" class=\"dataframe\">\n",
       "  <thead>\n",
       "    <tr style=\"text-align: right;\">\n",
       "      <th></th>\n",
       "      <th>dropoff_location_name</th>\n",
       "      <th>average_trips</th>\n",
       "    </tr>\n",
       "  </thead>\n",
       "  <tbody>\n",
       "    <tr>\n",
       "      <th>0</th>\n",
       "      <td>Loop</td>\n",
       "      <td>10727.466667</td>\n",
       "    </tr>\n",
       "    <tr>\n",
       "      <th>1</th>\n",
       "      <td>River North</td>\n",
       "      <td>9523.666667</td>\n",
       "    </tr>\n",
       "    <tr>\n",
       "      <th>2</th>\n",
       "      <td>Streeterville</td>\n",
       "      <td>6664.666667</td>\n",
       "    </tr>\n",
       "    <tr>\n",
       "      <th>3</th>\n",
       "      <td>West Loop</td>\n",
       "      <td>5163.666667</td>\n",
       "    </tr>\n",
       "    <tr>\n",
       "      <th>4</th>\n",
       "      <td>O'Hare</td>\n",
       "      <td>2546.900000</td>\n",
       "    </tr>\n",
       "  </tbody>\n",
       "</table>\n",
       "</div>"
      ],
      "text/plain": [
       "  dropoff_location_name  average_trips\n",
       "0                  Loop   10727.466667\n",
       "1           River North    9523.666667\n",
       "2         Streeterville    6664.666667\n",
       "3             West Loop    5163.666667\n",
       "4                O'Hare    2546.900000"
      ]
     },
     "metadata": {},
     "output_type": "display_data"
    },
    {
     "name": "stdout",
     "output_type": "stream",
     "text": [
      "<class 'pandas.core.frame.DataFrame'>\n",
      "RangeIndex: 94 entries, 0 to 93\n",
      "Data columns (total 2 columns):\n",
      " #   Column                 Non-Null Count  Dtype  \n",
      "---  ------                 --------------  -----  \n",
      " 0   dropoff_location_name  94 non-null     object \n",
      " 1   average_trips          94 non-null     float64\n",
      "dtypes: float64(1), object(1)\n",
      "memory usage: 1.6+ KB\n"
     ]
    }
   ],
   "source": [
    "display(zuber_dropoff_data.head())\n",
    "zuber_dropoff_data.info()"
   ]
  },
  {
   "attachments": {},
   "cell_type": "markdown",
   "metadata": {},
   "source": [
    "Display third dataframe and info"
   ]
  },
  {
   "cell_type": "code",
   "execution_count": 10,
   "metadata": {},
   "outputs": [
    {
     "data": {
      "text/html": [
       "<div>\n",
       "<style scoped>\n",
       "    .dataframe tbody tr th:only-of-type {\n",
       "        vertical-align: middle;\n",
       "    }\n",
       "\n",
       "    .dataframe tbody tr th {\n",
       "        vertical-align: top;\n",
       "    }\n",
       "\n",
       "    .dataframe thead th {\n",
       "        text-align: right;\n",
       "    }\n",
       "</style>\n",
       "<table border=\"1\" class=\"dataframe\">\n",
       "  <thead>\n",
       "    <tr style=\"text-align: right;\">\n",
       "      <th></th>\n",
       "      <th>start_ts</th>\n",
       "      <th>weather_conditions</th>\n",
       "      <th>duration_seconds</th>\n",
       "    </tr>\n",
       "  </thead>\n",
       "  <tbody>\n",
       "    <tr>\n",
       "      <th>0</th>\n",
       "      <td>2017-11-25 16:00:00</td>\n",
       "      <td>Good</td>\n",
       "      <td>2410.0</td>\n",
       "    </tr>\n",
       "    <tr>\n",
       "      <th>1</th>\n",
       "      <td>2017-11-25 14:00:00</td>\n",
       "      <td>Good</td>\n",
       "      <td>1920.0</td>\n",
       "    </tr>\n",
       "    <tr>\n",
       "      <th>2</th>\n",
       "      <td>2017-11-25 12:00:00</td>\n",
       "      <td>Good</td>\n",
       "      <td>1543.0</td>\n",
       "    </tr>\n",
       "    <tr>\n",
       "      <th>3</th>\n",
       "      <td>2017-11-04 10:00:00</td>\n",
       "      <td>Good</td>\n",
       "      <td>2512.0</td>\n",
       "    </tr>\n",
       "    <tr>\n",
       "      <th>4</th>\n",
       "      <td>2017-11-11 07:00:00</td>\n",
       "      <td>Good</td>\n",
       "      <td>1440.0</td>\n",
       "    </tr>\n",
       "  </tbody>\n",
       "</table>\n",
       "</div>"
      ],
      "text/plain": [
       "              start_ts weather_conditions  duration_seconds\n",
       "0  2017-11-25 16:00:00               Good            2410.0\n",
       "1  2017-11-25 14:00:00               Good            1920.0\n",
       "2  2017-11-25 12:00:00               Good            1543.0\n",
       "3  2017-11-04 10:00:00               Good            2512.0\n",
       "4  2017-11-11 07:00:00               Good            1440.0"
      ]
     },
     "metadata": {},
     "output_type": "display_data"
    },
    {
     "name": "stdout",
     "output_type": "stream",
     "text": [
      "<class 'pandas.core.frame.DataFrame'>\n",
      "RangeIndex: 1068 entries, 0 to 1067\n",
      "Data columns (total 3 columns):\n",
      " #   Column              Non-Null Count  Dtype  \n",
      "---  ------              --------------  -----  \n",
      " 0   start_ts            1068 non-null   object \n",
      " 1   weather_conditions  1068 non-null   object \n",
      " 2   duration_seconds    1068 non-null   float64\n",
      "dtypes: float64(1), object(2)\n",
      "memory usage: 25.2+ KB\n"
     ]
    }
   ],
   "source": [
    "display(zuber_rides_data.head())\n",
    "zuber_rides_data.info()"
   ]
  },
  {
   "attachments": {},
   "cell_type": "markdown",
   "metadata": {},
   "source": [
    "<h1>Data Pre-Processing</h1>"
   ]
  },
  {
   "attachments": {},
   "cell_type": "markdown",
   "metadata": {},
   "source": [
    "<h2>Taxi Company Data</h2>"
   ]
  },
  {
   "attachments": {},
   "cell_type": "markdown",
   "metadata": {},
   "source": [
    "Check for duplicate rows"
   ]
  },
  {
   "cell_type": "code",
   "execution_count": 11,
   "metadata": {},
   "outputs": [
    {
     "name": "stdout",
     "output_type": "stream",
     "text": [
      "0\n"
     ]
    }
   ],
   "source": [
    "print(zuber_company_data.duplicated().sum())"
   ]
  },
  {
   "cell_type": "code",
   "execution_count": 26,
   "metadata": {},
   "outputs": [
    {
     "name": "stdout",
     "output_type": "stream",
     "text": [
      "0\n",
      "flash cab                      1\n",
      "taxi affiliation services      1\n",
      "norshore cab                   1\n",
      "6742 - 83735 tasha ride inc    1\n",
      "3591 - 63480 chuks cab         1\n",
      "                              ..\n",
      "gold coast taxi                1\n",
      "service taxi association       1\n",
      "5 star taxi                    1\n",
      "303 taxi                       1\n",
      "3556 - 36214 rc andrews cab    1\n",
      "Name: company_name_lowercase, Length: 64, dtype: int64\n",
      "['flash cab' 'taxi affiliation services' 'medallion leasin' 'yellow cab'\n",
      " 'taxi affiliation service yellow' 'chicago carriage cab corp'\n",
      " 'city service' 'sun taxi' 'star north management llc'\n",
      " 'blue ribbon taxi association inc.' 'choice taxi association'\n",
      " 'globe taxi' 'dispatch taxi affiliation' 'nova taxi affiliation llc'\n",
      " 'patriot taxi dba peace taxi associat' 'checker taxi affiliation'\n",
      " 'blue diamond' 'chicago medallion management' '24 seven taxi'\n",
      " 'chicago medallion leasing inc' 'checker taxi' 'american united'\n",
      " 'chicago independents' 'koam taxi association' 'chicago taxicab'\n",
      " 'top cab affiliation' 'gold coast taxi' 'service taxi association'\n",
      " '5 star taxi' '303 taxi' 'setare inc' 'american united taxi affiliation'\n",
      " 'leonard cab co' 'metro jet taxi a' 'norshore cab'\n",
      " '6742 - 83735 tasha ride inc' '3591 - 63480 chuks cab'\n",
      " '1469 - 64126 omar jada' '6743 - 78771 luhak corp'\n",
      " '0118 - 42111 godfrey s.awir' '6574 - babylon express inc.'\n",
      " 'chicago star taxicab' '1085 - 72312 n and w cab co'\n",
      " '2809 - 95474 c & d cab co inc.' '2092 - 61288 sbeih company'\n",
      " '3011 - 66308 jbl cab inc.' '3620 - 52292 david k. cab corp.'\n",
      " '4615 - 83503 tyrone henderson' '3623 - 72222 arrington enterprises'\n",
      " '5074 - 54002 ahzmi inc' '2823 - 73307 lee express inc'\n",
      " '4623 - 27290 jay kim' '3721 - santamaria express, alvaro santamaria'\n",
      " '5006 - 39261 salifu bawa' '2192 - 73487 zeymane corp'\n",
      " '6057 - 24657 richard addo' '5997 - 65283 aw services inc.' 'metro group'\n",
      " '5062 - 34841 sam mestas' '4053 - 40193 adwar h. nikola'\n",
      " '2733 - 74600 benny jona' '5874 - 73628 sergey cab corp.'\n",
      " '2241 - 44667 - felman corp, manuel alonso' '3556 - 36214 rc andrews cab']\n",
      "0\n"
     ]
    }
   ],
   "source": [
    "print(zuber_company_data.duplicated(subset=['company_name', 'trips_amount']).sum())\n",
    "#print(zuber_company_data['company_name'].value_counts())\n",
    "#print(zuber_company_data['company_name'].unique())\n",
    "zuber_company_data['company_name_lowercase'] = zuber_company_data['company_name'].str.lower()\n",
    "#print(zuber_company_data['company_name'].duplicated().sum())\n",
    "print(zuber_company_data['company_name_lowercase'].value_counts())\n",
    "print(zuber_company_data['company_name_lowercase'].unique())\n",
    "print(zuber_company_data.duplicated(subset=['company_name_lowercase', 'trips_amount']).sum())\n",
    "zuber_company_data.drop(['company_name_lowercase'], axis=1, inplace=True)\n"
   ]
  },
  {
   "attachments": {},
   "cell_type": "markdown",
   "metadata": {},
   "source": [
    "<h2>Dropoff Data</h2>"
   ]
  },
  {
   "attachments": {},
   "cell_type": "markdown",
   "metadata": {},
   "source": [
    "Check for duplicates"
   ]
  },
  {
   "cell_type": "code",
   "execution_count": 18,
   "metadata": {},
   "outputs": [
    {
     "name": "stdout",
     "output_type": "stream",
     "text": [
      "0\n"
     ]
    }
   ],
   "source": [
    "print(zuber_dropoff_data.duplicated().sum())"
   ]
  },
  {
   "cell_type": "code",
   "execution_count": 27,
   "metadata": {},
   "outputs": [
    {
     "name": "stdout",
     "output_type": "stream",
     "text": [
      "0\n",
      "loop               1\n",
      "chatham            1\n",
      "clearing           1\n",
      "auburn gresham     1\n",
      "washington park    1\n",
      "                  ..\n",
      "albany park        1\n",
      "wicker park        1\n",
      "avondale           1\n",
      "hyde park          1\n",
      "riverdale          1\n",
      "Name: location_name_lowercase, Length: 94, dtype: int64\n",
      "['loop' 'river north' 'streeterville' 'west loop' \"o'hare\" 'lake view'\n",
      " 'grant park' 'museum campus' 'gold coast' 'sheffield & depaul'\n",
      " 'lincoln park' 'east village' 'little italy, uic' 'uptown'\n",
      " 'near south side' 'garfield ridge' 'logan square' 'edgewater' 'west town'\n",
      " 'old town' 'rush & division' 'north center' 'lincoln square'\n",
      " 'rogers park' 'west ridge' 'irving park' 'hyde park' 'avondale'\n",
      " 'wicker park' 'albany park' 'united center' 'lower west side' 'douglas'\n",
      " 'portage park' 'humboldt park' 'norwood park' 'kenwood' 'bridgeport'\n",
      " 'armour square' 'jefferson park' 'bucktown' 'north park' 'garfield park'\n",
      " 'mckinley park' 'belmont cragin' 'boystown' 'chinatown' 'grand boulevard'\n",
      " 'austin' 'sauganash,forest glen' 'south shore' 'woodlawn'\n",
      " 'little village' 'jackson park' 'north lawndale' 'dunning'\n",
      " 'ukrainian village' 'hermosa' 'englewood' 'chatham' 'new city'\n",
      " 'grand crossing' 'brighton park' 'andersonville' 'oakland' 'ashburn'\n",
      " 'washington park' 'auburn gresham' 'clearing' 'roseland' 'wrigleyville'\n",
      " 'edison park' 'south chicago' 'chicago lawn' 'beverly' 'calumet heights'\n",
      " 'washington heights' 'archer heights' 'gage park' 'fuller park'\n",
      " 'west lawn' 'morgan park' 'south deering' 'avalon park' 'west pullman'\n",
      " 'montclare' 'west elsdon' 'pullman' 'undef' 'mount greenwood' 'hegewisch'\n",
      " 'burnside' 'east side' 'riverdale']\n",
      "0\n"
     ]
    }
   ],
   "source": [
    "print(zuber_dropoff_data.duplicated(subset=['dropoff_location_name', 'average_trips']).sum())\n",
    "#print(zuber_dropoff_data['dropoff_location_name'].value_counts())\n",
    "#print(zuber_dropoff_data['dropoff_location_name'].unique())\n",
    "zuber_dropoff_data['location_name_lowercase'] = zuber_dropoff_data['dropoff_location_name'].str.lower()\n",
    "#print(zuber_dropoff_data['dropoff_location_name'].duplicated().sum())\n",
    "print(zuber_dropoff_data['location_name_lowercase'].value_counts())\n",
    "print(zuber_dropoff_data['location_name_lowercase'].unique())\n",
    "print(zuber_dropoff_data.duplicated(subset=['location_name_lowercase', 'average_trips']).sum())\n",
    "zuber_dropoff_data.drop(['location_name_lowercase'], axis=1, inplace=True)\n",
    "\n"
   ]
  },
  {
   "attachments": {},
   "cell_type": "markdown",
   "metadata": {},
   "source": [
    "Average trips should be a whole number. This code rounds the average_trips column to a whole number, then converts the column to the int datatype."
   ]
  },
  {
   "cell_type": "code",
   "execution_count": 25,
   "metadata": {},
   "outputs": [],
   "source": [
    "zuber_dropoff_data['average_trips'] = round(zuber_dropoff_data['average_trips'], 0)\n",
    "\n",
    "zuber_dropoff_data['average_trips'] = zuber_dropoff_data['average_trips'].astype('int')"
   ]
  },
  {
   "attachments": {},
   "cell_type": "markdown",
   "metadata": {},
   "source": [
    "<h2>Rides Data</h2>"
   ]
  },
  {
   "attachments": {},
   "cell_type": "markdown",
   "metadata": {},
   "source": [
    "Check for duplicates"
   ]
  },
  {
   "cell_type": "code",
   "execution_count": 29,
   "metadata": {},
   "outputs": [
    {
     "name": "stdout",
     "output_type": "stream",
     "text": [
      "197\n",
      "0       False\n",
      "1       False\n",
      "2       False\n",
      "3       False\n",
      "4       False\n",
      "        ...  \n",
      "1063    False\n",
      "1064    False\n",
      "1065     True\n",
      "1066     True\n",
      "1067    False\n",
      "Length: 1068, dtype: bool\n"
     ]
    }
   ],
   "source": [
    "print(zuber_rides_data.duplicated().sum())\n",
    "print(zuber_rides_data.duplicated())"
   ]
  },
  {
   "attachments": {},
   "cell_type": "markdown",
   "metadata": {},
   "source": [
    "I am leaving these duplicates based on the way they were calculated in SQL."
   ]
  },
  {
   "cell_type": "code",
   "execution_count": null,
   "metadata": {},
   "outputs": [],
   "source": []
  }
 ],
 "metadata": {
  "kernelspec": {
   "display_name": "base",
   "language": "python",
   "name": "python3"
  },
  "language_info": {
   "codemirror_mode": {
    "name": "ipython",
    "version": 3
   },
   "file_extension": ".py",
   "mimetype": "text/x-python",
   "name": "python",
   "nbconvert_exporter": "python",
   "pygments_lexer": "ipython3",
   "version": "3.9.13"
  },
  "orig_nbformat": 4
 },
 "nbformat": 4,
 "nbformat_minor": 2
}
